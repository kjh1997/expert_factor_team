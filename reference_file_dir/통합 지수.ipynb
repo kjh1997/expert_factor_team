{
 "cells": [
  {
   "cell_type": "markdown",
   "id": "53c57844",
   "metadata": {},
   "source": [
    "# Import the librairies"
   ]
  },
  {
   "cell_type": "code",
   "execution_count": 1,
   "id": "c184c3ac",
   "metadata": {},
   "outputs": [],
   "source": [
    "import re, math, time, threading, logging, datetime, sys, io, queue\n",
    "from sklearn.feature_extraction.text import TfidfVectorizer\n",
    "from gensim.corpora import Dictionary\n",
    "from sklearn.pipeline import Pipeline\n",
    "from gensim.models import TfidfModel\n",
    "from bson.objectid import ObjectId\n",
    "from multiprocessing import Pool\n",
    "from pymongo import MongoClient\n",
    "from gensim import similarities\n",
    "from numpy.linalg import norm\n",
    "from threading import Thread\n",
    "from statistics import mean \n",
    "from random import randint\n",
    "import scipy.sparse as sp\n",
    "from time import sleep\n",
    "from numpy import dot\n",
    "import pandas as pd\n",
    "import numpy as np"
   ]
  },
  {
   "cell_type": "markdown",
   "id": "79bf7f4c",
   "metadata": {},
   "source": [
    "# Connect the database"
   ]
  },
  {
   "cell_type": "code",
   "execution_count": 2,
   "id": "1c49b8fb",
   "metadata": {},
   "outputs": [],
   "source": [
    "client = MongoClient('203.255.92.141:27017', connect=False)\n",
    "ID = client['ID']\n",
    "ntis_client  = client['NTIS']\n",
    "scienceon = client['SCIENCEON']\n",
    "\n",
    "KCI = client.PUBLIC.KCI\n",
    "SCI = client.PUBLIC.SCI\n",
    "kDic = {}\n",
    "sDic = {}\n",
    "for doc in KCI.find({}) :\n",
    "    kDic[doc['name']] = doc['IF']\n",
    "for doc in SCI.find({}) :\n",
    "    sDic[doc['name']] = doc['IF']"
   ]
  },
  {
   "cell_type": "markdown",
   "id": "77e93198",
   "metadata": {},
   "source": [
    "# GetBackData"
   ]
  },
  {
   "cell_type": "code",
   "execution_count": 3,
   "id": "8f98be05",
   "metadata": {},
   "outputs": [],
   "source": [
    "\"\"\"\n",
    "@ Method Name     : getBackdata\n",
    "@ Method explain  : 크롤링 한 결과가 저장되 있는 DB에서 A_ID, papers 값 도출하는 함수\n",
    "@ i               : run 함수에서 실행되는 반복문의 i 값\n",
    "@ dataPerPage     : dataPerPage(100)\n",
    "@ fid             : filtering id\n",
    "@ keyID           : key id\n",
    "\"\"\"\n",
    "def getBackdata(i, dataPerPage, fid, keyID):\n",
    "    #Domestic AuthorPapers\n",
    "    sCount  = i * dataPerPage\n",
    "    lCoount = dataPerPage\n",
    "    \n",
    "    getBackdata = []\n",
    "    \n",
    "    for doc in ID['Domestic'].find({\"keyId\":keyID, \"fid\":fid}, {\"NTIS\":1,\"Scienceon\":1}).skip(sCount).limit(lCoount):      \n",
    "        papersNumber = 0\n",
    "        getBackdataDic = {}\n",
    "        \n",
    "        if (\"NTIS\" in doc):\n",
    "            getBackdataDic['ntis'] = doc['NTIS']['A_id']\n",
    "            getBackdataDic['ntis papers'] = doc['NTIS']['papers']\n",
    "            papersNumber += len(doc['NTIS']['papers'])\n",
    "        else:\n",
    "            getBackdataDic['ntis'] = None\n",
    "            getBackdataDic['ntis papers'] = []\n",
    "                    \n",
    "        if (\"Scienceon\" in doc):\n",
    "            getBackdataDic['scienceon'] = doc['Scienceon']['A_id']\n",
    "            getBackdataDic['Scienceon papers'] = doc['Scienceon']['papers']\n",
    "            papersNumber += len(doc['Scienceon']['papers'])\n",
    "        else:\n",
    "            getBackdataDic['scienceon'] = None\n",
    "            getBackdataDic['scienceon papers'] = []\n",
    "        \n",
    "        getBackdataDic['number'] = papersNumber\n",
    "        getBackdata.append(getBackdataDic)\n",
    "    return  getBackdata"
   ]
  },
  {
   "cell_type": "markdown",
   "id": "a042b103",
   "metadata": {},
   "source": [
    "# GetRawBackData"
   ]
  },
  {
   "cell_type": "code",
   "execution_count": 4,
   "id": "5f378142",
   "metadata": {},
   "outputs": [],
   "source": [
    "def getRawBackdata(getBackdata, keyId):\n",
    "    pYears = [] #NTIS & SCIENCEON\n",
    "    keywords = [] #NTIS & SCIENCEON\n",
    "    qty = [] #NTIS & SCIENCEON\n",
    "    totalFunds = [] #NTIS\n",
    "    mngIds = [] #NTIS\n",
    "    ntis_id = [] #NTIS\n",
    "    authorInsts = [] #SCIENCEON\n",
    "    authors = [] #SCIENCEON\n",
    "    issueInsts = [] #SCIENCEON\n",
    "    issueLangs = [] #SCIENCEON\n",
    "    citation = [] #SCIENCEON\n",
    "    scienceon_id = [] #SCIENCEON\n",
    "    querykey = []\n",
    "    for i in range(len(getBackdata) - 1, -1, -1):\n",
    "        _pYear = [] #NTIS & SCIENCEON\n",
    "        _keywords = [] #NTIS & SCIENCEON\n",
    "        \n",
    "        fund_list = [] #NTIS\n",
    "        _mngIds = [] #NTIS\n",
    "        __keyword = [] #NTIS\n",
    "        \n",
    "        _keyword = [] #SCIENCEON\n",
    "        _authorInsts = [] #SCIENCEON\n",
    "        _authors = [] #SCIENCEON\n",
    "        _issueInsts = [] #SCIENCEON\n",
    "        _issueLangs = [] #SCIENCEON\n",
    "        _citation = [] #SCIENCEON\n",
    "        _scienceon_id = [] #SCIENCEON\n",
    "        \n",
    "        #NTIS\n",
    "        if (getBackdata[i]['ntis'] != None):\n",
    "            ntis_id.insert(0,getBackdata[i]['ntis'])\n",
    "            for doc in ntis_client['Rawdata'].find({\"keyId\": keyId, \"_id\": {\"$in\" : getBackdata[i]['ntis papers']}}):\n",
    "                fund_list.append(math.log(int(doc['totalFund'])+1))\n",
    "                _mngIds.append(doc['mngId'])\n",
    "                for j in doc['qryKeyword']:\n",
    "                    if j not in querykey:\n",
    "                        querykey.append(j)\n",
    "                    \n",
    "                if doc['prdEnd'] != 'null':\n",
    "                    _pYear.append(int(doc['prdEnd'][0:4]))\n",
    "                elif (doc['prdEnd'] == 'null') and (doc['prdStart'] != 'null'):\n",
    "                    _pYear.append(int(doc['prdStart'][0:4]))\n",
    "                else:\n",
    "                    _pYear.append(int(2000))\n",
    "                __keyword.append(doc['koTitle'])\n",
    "                __keyword.append(doc['enTitle'])\n",
    "                __keyword.append(doc['koKeyword'])\n",
    "                __keyword.append(doc['enKeyword'])\n",
    "            if len(__keyword) != 0 :\n",
    "                _keywords.insert(0, __keyword)\n",
    "                totalFunds.insert(0, sum(fund_list))\n",
    "                mngIds.insert(0, _mngIds)\n",
    "                #keywords.insert(0, _keywords)\n",
    "                #pYears.insert(0, _pYear)\n",
    "        else:\n",
    "            ntis_id.insert(0,None)\n",
    "            totalFunds.insert(0,0)\n",
    "            mngIds.insert(0,_mngIds)\n",
    "            \n",
    "        #SCIENCEON\n",
    "        if (getBackdata[i]['scienceon'] != None):\n",
    "            scienceon_id.insert(0,getBackdata[i]['scienceon'])\n",
    "            for doc in scienceon['Rawdata'].find({\"keyId\": keyId, \"_id\": {\"$in\" : getBackdata[i]['Scienceon papers']}}):\n",
    "                _keyword.append(doc['title'])\n",
    "                _keyword.append(doc['english_title'])\n",
    "                _keyword.append(doc['paper_keyword'])\n",
    "                _keyword.append(doc['abstract'])\n",
    "                _keyword.append(doc['english_abstract'])\n",
    "                _pYear.append(int(doc['issue_year'][0:4]))\n",
    "                _authorInsts.append(doc['author_inst'])\n",
    "                _authors.append(doc['author_id']) #= doc['author_id'].split(';')\n",
    "                _issueInsts.append(doc['issue_inst'])\n",
    "                _issueLangs.append(doc['issue_lang'])\n",
    "                _citation.append(int(doc['citation']))\n",
    "                for j in doc['qryKeyword']:\n",
    "                    if j not in querykey:\n",
    "                        querykey.append(j)\n",
    "                 \n",
    "            if len(_keyword) != 0 :\n",
    "                authorInsts.insert(0,_authorInsts)\n",
    "                authors.insert(0, _authors)\n",
    "                issueInsts.insert(0, _issueInsts)\n",
    "                _keywords.insert(0,_keyword)\n",
    "                #pYears.insert(0,_pYear)\n",
    "                issueLangs.insert(0,_issueLangs)\n",
    "                #keywords.insert(0,_keywords)\n",
    "                citation.insert(0,_citation)\n",
    "        else:\n",
    "            issueInsts.insert(0,_issueInsts)\n",
    "            issueLangs.insert(0,_issueLangs)\n",
    "            citation.insert(0,_citation)\n",
    "            authors.insert(0,\"scienceon\"+str(i))\n",
    "            scienceon_id.insert(0,\"sco\"+str(i))\n",
    "            authorInsts.insert(0,_authorInsts)\n",
    "            \n",
    "        pYears.insert(0,_pYear)\n",
    "        keywords.insert(0, _keywords)\n",
    "        qty.insert(0,getBackdata[i]['number'])\n",
    "\n",
    "    return pYears, keywords, totalFunds, {'mngIds' : mngIds, 'A_ID' : ntis_id}, None, {'issueInsts' : issueInsts, 'issueLangs' : issueLangs, 'citation' : citation}, {'authors' : authors, 'A_ID' : scienceon_id  }, authorInsts, qty, querykey"
   ]
  },
  {
   "cell_type": "markdown",
   "id": "be26ac19",
   "metadata": {},
   "source": [
    "# Cooperation Function"
   ]
  },
  {
   "cell_type": "code",
   "execution_count": 5,
   "id": "c7bef8bb",
   "metadata": {},
   "outputs": [],
   "source": [
    "\"\"\"\n",
    "@ Method Name     : coop\n",
    "@ Method explain  : 협업도 계산 함수\n",
    "@ _contBackdata   : getRawBackdata 함수에서 mngIds, A_ID 값을 가지고 있는 변수\n",
    "\"\"\"\n",
    "def coop(_coopBackdata):\n",
    "    oemList = [\"Hyundai\", \"Kia\",\"Toyota\",\"Honda\",\"Nissan\",\"General Motors\", \"Chevrolet\",\"Ford motor\", \"Volkswagen\", \"Audi\", \"BMW\", \"Bayerische Motoren Werke\", \"Mercedes-Benz\", \"daimler\", \"Volvo\", \"Renault\", \"Jaguar\", \"Acura\", \"Mazda\", \"Subaru\", \"Suzuki\", \"Isuzu\",\"Daihatsu\",\"Peugeot\",\"Mclaren\", \"Bugatti\", \"Rolls Royce\", \"Bentley\", \"Aston Martin\", \"Land Rover\", \"Lotus\",\"Lexus\",   \"Infiniti\", \"Datson\", \"Mitsubishi\", \"Mitsuoka\",\"Great Wall\",\"Cadillac\", \"Tesla\", \"Jeep\", \"Dodge\", \"Chrysler\",\"Porsche\", \"Opel\", \"Borgward\", \"Gumfut\", \"FIAT\", \"Ferrari\", \"Lamborghini\", \"Maserati\",\"Peugeot\"]\n",
    "    score = []\n",
    "    for i in range(len(_coopBackdata)):\n",
    "        point = 0\n",
    "        for insts in _coopBackdata[i]:\n",
    "            if insts != None :\n",
    "                for oem in oemList :\n",
    "                    if oem in insts:\n",
    "                        point = point + 1\n",
    "                        break\n",
    "        score.append(point)\n",
    "    return score"
   ]
  },
  {
   "cell_type": "markdown",
   "id": "37606312",
   "metadata": {},
   "source": [
    "# Quality Functions"
   ]
  },
  {
   "cell_type": "code",
   "execution_count": 6,
   "id": "9be42c56",
   "metadata": {},
   "outputs": [],
   "source": [
    "\"\"\"\n",
    "@ Method Name     : 품질 / quality NTIS\n",
    "@ Method explain  : analyzerProject, analyzerPaper 에서 다시 정의 / Redefined in analyzer Project, analyzer Paper\n",
    "@ totalFunds      : 프로젝트 연구비 / project research funds NTIS\n",
    "\"\"\"\n",
    "def ntisquality(totalFunds):\n",
    "    return totalFunds\n",
    "\n",
    "\"\"\"\n",
    "@ Method Name     : 품질 / quality SCIENCEON\n",
    "@ Method explain  : 기여도 계산 함수\n",
    "@ _contBackdata   : getRawBackdata 함수에서 issueInsts, issueLangs, citation 값을 가지고 있는 변수 \n",
    "\"\"\"\n",
    "def scoquality(_qtyBackdata):\n",
    "    issueInsts = _qtyBackdata['issueInsts']\n",
    "    issueLangs = _qtyBackdata['issueLangs']\n",
    "    citation   = _qtyBackdata['citation']\n",
    "\n",
    "    IF = []\n",
    "    for i in range(len(issueInsts)):\n",
    "        tempIF = 0\n",
    "        for j in range(len(issueInsts[i])):\n",
    "            temp = None\n",
    "            tempIFIF = 0\n",
    "            n = 1\n",
    "            if issueLangs[i][j] == 'kor':\n",
    "                if isinstance(issueInsts[i][j], str) :\n",
    "                    tempIFIF = kDic.get(issueInsts[i][j],0)\n",
    "            else:\n",
    "                if isinstance(issueInsts[i][j], str) :\n",
    "                    tempIFIF = sDic.get(issueInsts[i][j],0)\n",
    "                n = 3\n",
    "\n",
    "            tempIF += math.log(((citation[i][j]*n)+1) * (tempIFIF+1.1))\n",
    "        IF.append(tempIF)\n",
    "    return IF"
   ]
  },
  {
   "cell_type": "markdown",
   "id": "97e276c9",
   "metadata": {},
   "source": [
    "# Productivity Function"
   ]
  },
  {
   "cell_type": "code",
   "execution_count": 34,
   "id": "ac824713",
   "metadata": {},
   "outputs": [],
   "source": [
    "def productivity(pYears):\n",
    "    dt = datetime.datetime.now()\n",
    "    rct_list = []\n",
    "    for i in range(len(pYears)):\n",
    "        rct = 0\n",
    "        mean_year = mean(pYears[i])\n",
    "        for j in range(len(pYears[i])):\n",
    "            if (mean_year - 5 < pYears[i][j] < mean_year + 5):\n",
    "                if pYears[i][j] >= int(dt.year)-2: # 최신년도 기준으로 과거 2년까지 +1점\n",
    "                    rct += 1\n",
    "                elif int(dt.year)-15 < pYears[i][j] <= int(dt.year)-3: # 최신년도 기준 과거 15년 ~ 과거 2년까지 \n",
    "                    rct += max(round((1-(int(dt.year)-3-pYears[i][j])*0.1),2), 0)\n",
    "                else:\n",
    "                    rct += 0\n",
    "        if len(pYears[i]) != 0:\n",
    "            rct_list.append(rct / len(pYears[i]))\n",
    "        else:\n",
    "            rct_list.append(0)\n",
    "    return rct_list"
   ]
  },
  {
   "cell_type": "markdown",
   "id": "9d93326e",
   "metadata": {},
   "source": [
    "# Accuracy functions"
   ]
  },
  {
   "cell_type": "code",
   "execution_count": 8,
   "id": "8dd4c834",
   "metadata": {},
   "outputs": [],
   "source": [
    "\"\"\"\n",
    "@ Method Name     : cos_sim\n",
    "@ Method explain  : 코사인 유사도 함수 \n",
    "@ A               : calAcc 함수에서 arr[np.argmax(arr.sum(axis=1))]\n",
    "@ B               : calAcc 함수에서 qrytfidf\n",
    "\"\"\"\n",
    "def cos_sim(A, B):\n",
    "    return dot(A, B)/(norm(A)*norm(B))\n",
    "\n",
    "\n",
    "\"\"\"\n",
    "@ Method Name     : calAcc\n",
    "@ Method explain  : 정확도 계산 함수(실제 acc 함수에서 각 논문/프로젝트 정확도 계산)\n",
    "@ keywords        : 1) 논문 제목, 프로젝트 키워드 (in project) \n",
    "                    2) 논문 제목, 논문 키워드, abstract (in paper)\n",
    "\"\"\"\n",
    "def calAcc(keywords, querykey):\n",
    "    flat_list = []\n",
    "    for sublist in keywords :\n",
    "        for item in sublist :\n",
    "            if item is not None and item != 'None' and item != \"\" and isinstance(item, str) :\n",
    "                flat_list.append(item)\n",
    "    if len(flat_list) == 0 :\n",
    "        return 0 \n",
    "\n",
    "    qs = querykey #What is this ?\n",
    "    qs = [_qs for _qs in qs if len(_qs) >= 2]\n",
    "    tfidf_vectorizer = TfidfVectorizer(analyzer='word', ngram_range=(1, 1))\n",
    "    tfidf_vectorizer.fit(querykey)\n",
    "\n",
    "    arr = tfidf_vectorizer.transform(flat_list).toarray()\n",
    "    qrytfidf = [1] *len(qs)\n",
    "    if sum(arr[np.argmax(arr.sum(axis=1))]) != 0:\n",
    "        return cos_sim(arr[np.argmax(arr.sum(axis=1))], qrytfidf)\n",
    "    else :\n",
    "        return 0\n",
    "\n",
    "\n",
    "\"\"\"\n",
    "@ Method Name     : acc\n",
    "@ Method explain  : 정확도 계산 함수\n",
    "@ keywords        : 1) 논문 제목, 프로젝트 키워드 (in project) \n",
    "                    2) 논문 제목, 논문 키워드, abstract (in paper)\n",
    "@ contBit         : contrib 값에서 0을 제외한 값\n",
    "\"\"\"\n",
    "\n",
    "def acc(keywords, contBit):\n",
    "    rtv = contBit.copy()\n",
    "    for i in range(len(keywords)):\n",
    "        try :\n",
    "            if rtv[i] != 0:\n",
    "                temp = calAcc(keywords[i],querykey)\n",
    "                if temp == 0.0 :\n",
    "                    rtv[i] = 0.02 #Where is defaultScore\n",
    "                else :\n",
    "                    rtv[i] = round(temp,2)\n",
    "        \n",
    "        except Exception as e :\n",
    "            print(keywords[i])\n",
    "            print(e)\n",
    "    return rtv"
   ]
  },
  {
   "cell_type": "code",
   "execution_count": 9,
   "id": "200ea92f",
   "metadata": {},
   "outputs": [],
   "source": [
    "\"\"\"\n",
    "@ Method Name     : cont\n",
    "@ Method explain  : 기여도 계산 함수\n",
    "@ _contBackdata   : getRawBackdata 함수에서 mngIds, A_ID 값을 가지고 있는 변수 NTIS\n",
    "\"\"\"\n",
    "def ntiscont(_contBackdata):\n",
    "    mngIds = _contBackdata['mngIds']\n",
    "    A_ID   = _contBackdata['A_ID']\n",
    "    point  = []\n",
    "    for i in range(len(mngIds)):\n",
    "        pt = 0\n",
    "        temp = 0\n",
    "        for j in range(len(mngIds[i])):\n",
    "            if mngIds[i][j] != None:\n",
    "                if A_ID[i] == mngIds[i][j] :\n",
    "                    pt += 10\n",
    "                else:\n",
    "                    temp += 1\n",
    "        if pt > 0 : \n",
    "            pt += temp\n",
    "        point.append(pt)\n",
    "    return point\n",
    "\n",
    "\"\"\"\n",
    "@ Method Name     : cont\n",
    "@ Method explain  : 기여도 계산 함수\n",
    "@ _contBackdata   : getRawBackdata 함수에서 mngIds, A_ID 값을 가지고 있는 변수 SCIENCEON\n",
    "\"\"\"\n",
    "def scocont(_contBackdata):\n",
    "    authors = _contBackdata['authors']\n",
    "    A_ID = _contBackdata['A_ID']\n",
    "    aidToDict = {i : 0 for i in A_ID}\n",
    "\n",
    "    for i in range(len(authors)):\n",
    "        for j in  range(len(authors[i])) :\n",
    "            x = authors[i][j].split(';')\n",
    "            for author in enumerate(x):\n",
    "                if author[1] in aidToDict and author[1] == A_ID[i]:\n",
    "                    if author[0] == 0:\n",
    "                        aidToDict[author[1]] += 1.0\n",
    "                    elif author[0] == len(x)-1:\n",
    "                        aidToDict[author[1]] += 3.0\n",
    "                    else :\n",
    "                        aidToDict[author[1]] += ((author[0]+1)/len(x))\n",
    "    return list(aidToDict.values())"
   ]
  },
  {
   "cell_type": "code",
   "execution_count": 10,
   "id": "cbeee41b",
   "metadata": {},
   "outputs": [],
   "source": [
    "(pYears, keywords, _ntisQtyBackdata, _ntisContBackdata, _ntisCoopBackdata, _sconQtyBackdata, _sconContBackdata, _sconCoopBackdata, qty, querykey) = getRawBackdata(getBackdata(0,100, 0, 650),650)"
   ]
  },
  {
   "cell_type": "code",
   "execution_count": 11,
   "id": "982fd7e2",
   "metadata": {},
   "outputs": [
    {
     "name": "stdout",
     "output_type": "stream",
     "text": [
      "협업도 / cooperation\n",
      "[0, 0, 0, 0, 0, 0, 0, 0, 0, 0, 0, 0, 0, 0, 0, 0, 0, 0, 0, 0, 0, 0, 0, 0, 0, 0, 0, 0, 0, 0, 0, 0, 0, 0, 0, 0, 0, 0, 0, 0, 0, 0, 0, 0, 0, 0, 0, 0, 0, 0, 0, 0, 0, 0, 0, 0, 0, 0, 0, 0, 0, 0, 0, 0, 0, 0, 0, 0, 0, 0, 0, 0, 0, 0, 0, 0, 0, 0, 0, 0, 0, 0, 0, 0, 0, 0, 0, 0, 0, 0, 0, 0, 0, 0, 0, 0, 0, 0, 0, 0]\n"
     ]
    }
   ],
   "source": [
    "print(\"협업도 / cooperation\")\n",
    "cooperation = coop(_sconCoopBackdata)\n",
    "print(cooperation)"
   ]
  },
  {
   "cell_type": "code",
   "execution_count": 12,
   "id": "e02867a7",
   "metadata": {},
   "outputs": [
    {
     "name": "stdout",
     "output_type": "stream",
     "text": [
      "품질 / quality\n",
      "[0.0, 0.0, 0.0, 0.0, 0.0, 0.0, 0.0, 0.0, 0.0, 0.0, 0.25, 0.0, 0.0, 0.0, 0.0, 0.0, 0.0, 0.0, 0.0, 0.0, 0.0, 0.0, 0.0, 0.0, 0.0, 0.0, 0.0, 0.0, 0.0, 0.72, 0.25, 0.25, 0.48, 1.0, 0.25, 0.23, 0.45, 0.48, 0.71, 0.24, 0.51, 0.25, 0.74, 0.23, 0.23, 0.28, 0.74, 0.28, 0.23, 0.48, 0.47, 0.74, 0.24, 0.54, 0.25, 0.24, 0.74, 0.27, 0.51, 0.51, 0.25, 0.47, 0.23, 0.79, 0.75, 0.5, 0.23, 0.25, 0.47, 0.23, 0.24, 0.25, 0.25, 0.87, 0.81, 0.25, 0.24, 0.49, 0.51, 0.51, 0.25, 0.51, 0.24, 0.76, 0.73, 0.23, 0.25, 0.5, 0.23, 0.5, 0.24, 0.25, 0.27, 0.48, 0.23, 0.26, 0.24, 0.53, 0.23, 0.47]\n"
     ]
    }
   ],
   "source": [
    "print(\"품질 / quality\")\n",
    "qual = []\n",
    "for i in range(len(scoquality(_sconQtyBackdata))):\n",
    "    qual.append(ntisquality(_ntisQtyBackdata)[i]+scoquality(_sconQtyBackdata)[i])\n",
    "tempQual = max(qual)\n",
    "quality = []\n",
    "for j in range(len(qual)):\n",
    "    quality.append(round((qual[j] / tempQual),2))\n",
    "print(quality)"
   ]
  },
  {
   "cell_type": "code",
   "execution_count": 13,
   "id": "5b89af5f",
   "metadata": {},
   "outputs": [
    {
     "name": "stdout",
     "output_type": "stream",
     "text": [
      "생산성 / productivity\n",
      "[1.0, 1.0, 1.0, 1.0, 1.0, 1.0, 1.0, 1.0, 1.0, 1.0, 1.0, 1.0, 1.0, 1.0, 1.0, 1.0, 1.0, 1.0, 1.0, 1.0, 1.0, 1.0, 1.0, 1.0, 1.0, 1.0, 1.0, 1.0, 1.0, 1.0, 1.0, 1.0, 1.0, 1.0, 1.0, 1.0, 1.0, 1.0, 1.0, 1.0, 1.0, 1.0, 1.0, 1.0, 1.0, 1.0, 1.0, 1.0, 1.0, 1.0, 1.0, 1.0, 1.0, 1.0, 1.0, 1.0, 1.0, 1.0, 1.0, 1.0, 1.0, 1.0, 1.0, 1.0, 1.0, 1.0, 1.0, 1.0, 1.0, 1.0, 1.0, 1.0, 1.0, 1.0, 1.0, 1.0, 1.0, 1.0, 1.0, 1.0, 1.0, 1.0, 1.0, 1.0, 1.0, 1.0, 1.0, 1.0, 1.0, 1.0, 1.0, 1.0, 1.0, 1.0, 1.0, 1.0, 1.0, 1.0, 1.0, 1.0]\n"
     ]
    }
   ],
   "source": [
    "print(\"생산성 / productivity\")\n",
    "prod = productivity(pYears)\n",
    "print(prod)"
   ]
  },
  {
   "cell_type": "code",
   "execution_count": 14,
   "id": "e3151518",
   "metadata": {},
   "outputs": [
    {
     "name": "stdout",
     "output_type": "stream",
     "text": [
      "정확도 / accuracy\n",
      "[0.71, 0.71, 0.71, 0.71, 0.71, 0.02, 1.0, 0.71, 0.71, 0.71, 0.02, 0.02, 0.02, 0.02, 0.71, 0.71, 0.71, 0.02, 0.02, 0.71, 0.71, 0.71, 0.02, 0.02, 0.02, 0.02, 0.71, 0.02, 0.71, 0.02, 0.02, 0.71, 0.02, 0.71, 0.71, 0.71, 0.02, 0.71, 0.71, 0.02, 0.71, 0.71, 0.02, 0.02, 0.71, 0.71, 0.02, 0.02, 0.71, 0.71, 0.02, 0.02, 0.71, 0.02, 0.02, 0.71, 0.71, 0.71, 0.71, 0.71, 0.71, 0.02, 0.02, 0.71, 0.02, 0.02, 0.71, 0.02, 0.71, 0.71, 0.71, 0.71, 0.71, 0.71, 0.71, 0.02, 0.71, 0.71, 0.02, 0.71, 0.71, 0.71, 0.71, 0.71, 0.71, 0.71, 0.71, 0.71, 0.02, 0.02, 0.71, 0.02, 0.71, 0.71, 0.02, 0.02, 0.02, 0.02, 0.71, 0.71]\n"
     ]
    }
   ],
   "source": [
    "contrib = []\n",
    "for i in range(len(scocont(_sconContBackdata))):\n",
    "    contrib.append(ntiscont(_ntisContBackdata)[i]+scocont(_sconContBackdata)[i])  \n",
    "\n",
    "contBit  = [1 if i > 0 else i for i in contrib]\n",
    "\n",
    "print(\"정확도 / accuracy\")\n",
    "accuracy = acc(keywords, contBit)\n",
    "print(accuracy)"
   ]
  }
 ],
 "metadata": {
  "kernelspec": {
   "display_name": "Python 3 (ipykernel)",
   "language": "python",
   "name": "python3"
  },
  "language_info": {
   "codemirror_mode": {
    "name": "ipython",
    "version": 3
   },
   "file_extension": ".py",
   "mimetype": "text/x-python",
   "name": "python",
   "nbconvert_exporter": "python",
   "pygments_lexer": "ipython3",
   "version": "3.9.7"
  }
 },
 "nbformat": 4,
 "nbformat_minor": 5
}
