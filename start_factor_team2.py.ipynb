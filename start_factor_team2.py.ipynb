{
 "cells": [
  {
   "cell_type": "markdown",
   "id": "92e93a50",
   "metadata": {},
   "source": [
    "# Library"
   ]
  },
  {
   "cell_type": "code",
   "execution_count": null,
   "id": "983eff4b",
   "metadata": {},
   "outputs": [
    {
     "ename": "",
     "evalue": "",
     "output_type": "error",
     "traceback": [
      "\u001b[1;31mThe kernel failed to start as 'filefind' could not be imported from '~\\AppData\\Local\\Programs\\Python\\Python38\\lib\\site-packages\\traitlets\\utils\\__init__.py'. \n",
      "View Jupyter <a href='command:jupyter.viewOutput'>log</a> for further details.\n",
      "<a href='https://aka.ms/kernelFailuresModuleImportErrFromFile'>Learn more</a>"
     ]
    }
   ],
   "source": [
    "from pymongo import MongoClient\n",
    "from bson.objectid import ObjectId\n",
    "import pprint\n",
    "import time"
   ]
  },
  {
   "cell_type": "markdown",
   "id": "12f0d067",
   "metadata": {},
   "source": [
    "# Database"
   ]
  },
  {
   "cell_type": "code",
   "execution_count": null,
   "id": "b7f18ece",
   "metadata": {},
   "outputs": [],
   "source": [
    "client = MongoClient('203.255.92.141:27017', connect=False)\n",
    "ID = client['ID']\n",
    "ID_Domestic = ID['Domestic']\n",
    "ntis_client  = client['NTIS']\n",
    "ntis_rawdata = ntis_client['Rawdata']\n",
    "scienceon = client['SCIENCEON']\n",
    "scienceon_authorpapers = scienceon['AuthorPapers']\n",
    "scienceon_rawdata = scienceon['Rawdata']"
   ]
  },
  {
   "cell_type": "markdown",
   "id": "01782c70",
   "metadata": {},
   "source": [
    "# Program"
   ]
  },
  {
   "cell_type": "code",
   "execution_count": null,
   "id": "5bbd0c54",
   "metadata": {},
   "outputs": [],
   "source": [
    "scienceon_id = []\n",
    "papers_content = []\n",
    "scienceon_dict = {}\n",
    "ntis_data = []"
   ]
  },
  {
   "cell_type": "code",
   "execution_count": null,
   "id": "1354a302",
   "metadata": {},
   "outputs": [],
   "source": [
    "#NTIS author ID and papers\n",
    "AuthorPapers_A_ID_AND_Papers = list(ntis_client['AuthorPapers'].find({'keyId':519}, {'A_ID':1,\"papers\":1}))\n",
    "for A_ID_Data in AuthorPapers_A_ID_AND_Papers[0:46]:\n",
    "    scienceon_author = []\n",
    "    #scienceon_data = []\n",
    "    scienceon_dict['ntis'] = A_ID_Data['A_ID'] #NTIS ID\n",
    "    paper_cnt = [] #Number of papers\n",
    "    paper_cnt.append(len(A_ID_Data['papers']))\n",
    "    print(paper_cnt)\n",
    "    papers_content = []\n",
    "    # keyid 519로 검색했을 경우의 논문\n",
    "    for id_paper in A_ID_Data['papers']: #NTIS Papers content\n",
    "        ntis_paper_data = list(ntis_rawdata.find({\"_id\":id_paper},{\"koTitle\":1,\"enTitle\":1,\"absAbs\":1,\"effAbs\":1,\"koKeyword\":1,\"enKeyword\":1,\"goalAbs\":1,\n",
    "        'totalFund':1,\"mngId\":1,\"prdEnd\":1,\"prdStart\":1}))\n",
    "        papers_content.append(ntis_paper_data[0])\n",
    "    #print(scienceon_dict)\n",
    "    \n",
    "    # keyid 519로 검색했을 경우 나오는 a_id에 대한 scienceon의 id\n",
    "    author = ID_Domestic.find({\"ntis\":A_ID_Data['A_ID']},{\"scienceon\":1,\"ntis\":1})\n",
    "    for id in author:\n",
    "        for scienceon_id in id[\"scienceon\"]:\n",
    "            #paper_cnt.append(len(A_ID_Data['papers']))\n",
    "            scienceon_author.append(scienceon_id) #SCIENCEON ID\n",
    "            #print(scienceon_author)\n",
    "            a = scienceon_authorpapers.find({\"A_ID\":scienceon_id, \"keyId\":519},{\"papers\":1})\n",
    "            if a:\n",
    "                paper_cnt.append(0)\n",
    "            else:\n",
    "                for scienceon_paper_id in a: #Scienceon Papers content\n",
    "                    print(scienceon_paper_id['papers'])\n",
    "                    #print(len(scienceon_paper_id['papers']))\n",
    "                    #print(scienceon_id)\n",
    "                    paper_cnt.append(len(scienceon_paper_id['papers']))\n",
    "                    scienceon_paper_data = list(scienceon_rawdata.find({\"_id\":scienceon_paper_id['papers'][0]},{\"title\":1,\"abstract\":1,\"english_title\":1,\"qryKeyword\":1,\"issueInsts\":1,\n",
    "                'issueLangs':1,'Usage Count':1,'issue_year':1,'citation':1,'author_id':1,\"paper_keyword\":1,\"english_title\":1,\"english_abstract\":1,\"author_inst\":1,\"issue_inst\":1,\n",
    "                \"issue_lang\":1}))\n",
    "                    papers_content.append(scienceon_paper_data[0])\n",
    "        #print(scienceon_author)     \n",
    "    scienceon_dict['scienceon'] = scienceon_author\n",
    "    scienceon_dict['papers_number'] = paper_cnt\n",
    "    scienceon_dict['papers'] = papers_content\n",
    "    print(scienceon_dict)    "
   ]
  },
  {
   "cell_type": "code",
   "execution_count": null,
   "id": "e02feac9",
   "metadata": {},
   "outputs": [],
   "source": []
  }
 ],
 "metadata": {
  "kernelspec": {
   "display_name": "Python 3",
   "language": "python",
   "name": "python3"
  },
  "language_info": {
   "codemirror_mode": {
    "name": "ipython",
    "version": 3
   },
   "file_extension": ".py",
   "mimetype": "text/x-python",
   "name": "python",
   "nbconvert_exporter": "python",
   "pygments_lexer": "ipython3",
   "version": "3.8.0"
  }
 },
 "nbformat": 4,
 "nbformat_minor": 5
}
